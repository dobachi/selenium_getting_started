{
 "cells": [
  {
   "cell_type": "markdown",
   "metadata": {},
   "source": [
    "# WebDriverをダウンロード"
   ]
  },
  {
   "cell_type": "code",
   "execution_count": 23,
   "metadata": {},
   "outputs": [],
   "source": [
    "import requests as rq\n",
    "import os\n",
    "import tarfile"
   ]
  },
  {
   "cell_type": "markdown",
   "metadata": {},
   "source": [
    "WebDriverはホームディレクトリ以下の `Selenium` ディレクトリ以下に置くことにする。\n",
    "必要に応じてディレクトリを作成する。"
   ]
  },
  {
   "cell_type": "code",
   "execution_count": 14,
   "metadata": {},
   "outputs": [
    {
     "name": "stdout",
     "output_type": "stream",
     "text": [
      "/home/dobachi/Selenium\n"
     ]
    }
   ],
   "source": [
    "home_dir = os.environ[\"HOME\"]\n",
    "selenium_dir = os.path.join(home_dir, \"Selenium\")\n",
    "print(selenium_dir)"
   ]
  },
  {
   "cell_type": "code",
   "execution_count": 15,
   "metadata": {},
   "outputs": [
    {
     "name": "stdout",
     "output_type": "stream",
     "text": [
      "True\n"
     ]
    }
   ],
   "source": [
    "if not os.path.isdir(selenium_dir):\n",
    "    os.makedirs(selenium_dir)\n",
    "\n",
    "print(os.path.isdir(selenium_dir))"
   ]
  },
  {
   "cell_type": "markdown",
   "metadata": {},
   "source": [
    "自分の手元では、Firefoxの69系を利用しているため、それに合わせたWebDriverをダウンロードする。"
   ]
  },
  {
   "cell_type": "code",
   "execution_count": 2,
   "metadata": {},
   "outputs": [],
   "source": [
    "url = \"https://github.com/mozilla/geckodriver/releases/download/v0.26.0/geckodriver-v0.26.0-linux64.tar.gz\""
   ]
  },
  {
   "cell_type": "code",
   "execution_count": 3,
   "metadata": {},
   "outputs": [],
   "source": [
    "response = rq.get(url)"
   ]
  },
  {
   "cell_type": "code",
   "execution_count": 4,
   "metadata": {},
   "outputs": [],
   "source": [
    "contentType = response.headers['Content-Type']\n",
    "contentDisposition = response.headers['Content-Disposition']\n",
    "ATTRIBUTE = 'filename='\n",
    "fileName = contentDisposition[contentDisposition.find(ATTRIBUTE) + len(ATTRIBUTE):]"
   ]
  },
  {
   "cell_type": "code",
   "execution_count": 5,
   "metadata": {},
   "outputs": [
    {
     "name": "stdout",
     "output_type": "stream",
     "text": [
      "geckodriver-v0.26.0-linux64.tar.gz\n"
     ]
    }
   ],
   "source": [
    "print(fileName)"
   ]
  },
  {
   "cell_type": "markdown",
   "metadata": {},
   "source": [
    "TarファイルをいったんSeleniumディレクトリにダウンロード"
   ]
  },
  {
   "cell_type": "code",
   "execution_count": 20,
   "metadata": {},
   "outputs": [],
   "source": [
    "saveFilePath = os.path.join(selenium_dir, fileName)\n",
    "with open(saveFilePath, 'wb') as saveFile:\n",
    "    saveFile.write(response.content)"
   ]
  },
  {
   "cell_type": "markdown",
   "metadata": {},
   "source": [
    "解凍する。"
   ]
  },
  {
   "cell_type": "code",
   "execution_count": 27,
   "metadata": {},
   "outputs": [],
   "source": [
    "with tarfile.open(saveFilePath, \"r:gz\") as t:\n",
    "    t.extractall(selenium_dir)"
   ]
  },
  {
   "cell_type": "code",
   "execution_count": null,
   "metadata": {},
   "outputs": [],
   "source": []
  }
 ],
 "metadata": {
  "kernelspec": {
   "display_name": "Python 3",
   "language": "python",
   "name": "python3"
  },
  "language_info": {
   "codemirror_mode": {
    "name": "ipython",
    "version": 3
   },
   "file_extension": ".py",
   "mimetype": "text/x-python",
   "name": "python",
   "nbconvert_exporter": "python",
   "pygments_lexer": "ipython3",
   "version": "3.7.4"
  }
 },
 "nbformat": 4,
 "nbformat_minor": 2
}
